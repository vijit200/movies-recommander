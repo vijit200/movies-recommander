{
 "cells": [
  {
   "cell_type": "code",
   "execution_count": 14,
   "metadata": {},
   "outputs": [],
   "source": [
    "import pandas as pd\n",
    "import numpy as np"
   ]
  },
  {
   "cell_type": "code",
   "execution_count": 15,
   "metadata": {},
   "outputs": [],
   "source": [
    "df= pd.read_csv('final_data1.csv')"
   ]
  },
  {
   "cell_type": "code",
   "execution_count": 16,
   "metadata": {},
   "outputs": [
    {
     "data": {
      "text/plain": [
       "(4932, 11)"
      ]
     },
     "execution_count": 16,
     "metadata": {},
     "output_type": "execute_result"
    }
   ],
   "source": [
    "df.shape"
   ]
  },
  {
   "cell_type": "code",
   "execution_count": 17,
   "metadata": {},
   "outputs": [
    {
     "data": {
      "text/html": [
       "<div>\n",
       "<style scoped>\n",
       "    .dataframe tbody tr th:only-of-type {\n",
       "        vertical-align: middle;\n",
       "    }\n",
       "\n",
       "    .dataframe tbody tr th {\n",
       "        vertical-align: top;\n",
       "    }\n",
       "\n",
       "    .dataframe thead th {\n",
       "        text-align: right;\n",
       "    }\n",
       "</style>\n",
       "<table border=\"1\" class=\"dataframe\">\n",
       "  <thead>\n",
       "    <tr style=\"text-align: right;\">\n",
       "      <th></th>\n",
       "      <th>Unnamed: 0</th>\n",
       "      <th>Title</th>\n",
       "      <th>director</th>\n",
       "      <th>actors</th>\n",
       "      <th>Genre</th>\n",
       "      <th>id</th>\n",
       "      <th>Image_url</th>\n",
       "      <th>Average_vote</th>\n",
       "      <th>Runtime</th>\n",
       "      <th>imdb_link</th>\n",
       "      <th>combo</th>\n",
       "    </tr>\n",
       "  </thead>\n",
       "  <tbody>\n",
       "    <tr>\n",
       "      <th>3390</th>\n",
       "      <td>3391</td>\n",
       "      <td>doctor strange</td>\n",
       "      <td>Scott Derrickson</td>\n",
       "      <td>Benedict Cumberbatch Chiwetel Ejiofor Rachel ...</td>\n",
       "      <td>Fantasy Action Adventure</td>\n",
       "      <td>453395</td>\n",
       "      <td>https://image.tmdb.org/t/p/w500//9Gtg2DzBhmYam...</td>\n",
       "      <td>7.505</td>\n",
       "      <td>126min</td>\n",
       "      <td>https://www.imdb.com/title/tt9419884</td>\n",
       "      <td>fantasy action adventure scott derrickson bene...</td>\n",
       "    </tr>\n",
       "  </tbody>\n",
       "</table>\n",
       "</div>"
      ],
      "text/plain": [
       "      Unnamed: 0           Title          director  \\\n",
       "3390        3391  doctor strange  Scott Derrickson   \n",
       "\n",
       "                                                 actors  \\\n",
       "3390   Benedict Cumberbatch Chiwetel Ejiofor Rachel ...   \n",
       "\n",
       "                         Genre      id  \\\n",
       "3390  Fantasy Action Adventure  453395   \n",
       "\n",
       "                                              Image_url  Average_vote Runtime  \\\n",
       "3390  https://image.tmdb.org/t/p/w500//9Gtg2DzBhmYam...         7.505  126min   \n",
       "\n",
       "                                 imdb_link  \\\n",
       "3390  https://www.imdb.com/title/tt9419884   \n",
       "\n",
       "                                                  combo  \n",
       "3390  fantasy action adventure scott derrickson bene...  "
      ]
     },
     "execution_count": 17,
     "metadata": {},
     "output_type": "execute_result"
    }
   ],
   "source": [
    "df[df['Title'] == \"doctor strange\"]"
   ]
  },
  {
   "cell_type": "code",
   "execution_count": 18,
   "metadata": {},
   "outputs": [
    {
     "name": "stderr",
     "output_type": "stream",
     "text": [
      "C:\\Users\\vijit kumar\\AppData\\Local\\Temp\\ipykernel_3196\\4181190859.py:1: SettingWithCopyWarning: \n",
      "A value is trying to be set on a copy of a slice from a DataFrame\n",
      "\n",
      "See the caveats in the documentation: https://pandas.pydata.org/pandas-docs/stable/user_guide/indexing.html#returning-a-view-versus-a-copy\n",
      "  df['Image_url'][3390] = \"https://resizing.flixster.com/qyEXcTHULlPnLOMKSQuQD-U8wFU=/ems.ZW1zLXByZC1hc3NldHMvbW92aWVzL2FkNDZiMzU2LTFmYTQtNDgwMS1iOWM5LTgxNTg2NDMxNjBmNi53ZWJw\"\n"
     ]
    }
   ],
   "source": [
    "df['Image_url'][3390] = \"https://resizing.flixster.com/qyEXcTHULlPnLOMKSQuQD-U8wFU=/ems.ZW1zLXByZC1hc3NldHMvbW92aWVzL2FkNDZiMzU2LTFmYTQtNDgwMS1iOWM5LTgxNTg2NDMxNjBmNi53ZWJw\""
   ]
  },
  {
   "cell_type": "code",
   "execution_count": 19,
   "metadata": {},
   "outputs": [
    {
     "name": "stderr",
     "output_type": "stream",
     "text": [
      "C:\\Users\\vijit kumar\\AppData\\Local\\Temp\\ipykernel_3196\\3598951830.py:1: SettingWithCopyWarning: \n",
      "A value is trying to be set on a copy of a slice from a DataFrame\n",
      "\n",
      "See the caveats in the documentation: https://pandas.pydata.org/pandas-docs/stable/user_guide/indexing.html#returning-a-view-versus-a-copy\n",
      "  df['imdb_link'][3390] = \"https://www.imdb.com/title/tt1211837\"\n"
     ]
    }
   ],
   "source": [
    "df['imdb_link'][3390] = \"https://www.imdb.com/title/tt1211837\""
   ]
  },
  {
   "cell_type": "code",
   "execution_count": 10,
   "metadata": {},
   "outputs": [],
   "source": [
    "df.to_csv('moviessss.csv')"
   ]
  },
  {
   "cell_type": "code",
   "execution_count": 20,
   "metadata": {},
   "outputs": [],
   "source": [
    "df.drop_duplicates('Title',keep='last',inplace=True)"
   ]
  },
  {
   "cell_type": "code",
   "execution_count": 21,
   "metadata": {},
   "outputs": [
    {
     "data": {
      "text/plain": [
       "(4830, 11)"
      ]
     },
     "execution_count": 21,
     "metadata": {},
     "output_type": "execute_result"
    }
   ],
   "source": [
    "df.shape"
   ]
  },
  {
   "cell_type": "code",
   "execution_count": 13,
   "metadata": {},
   "outputs": [],
   "source": [
    "df.to_csv('moviss_dup.csv')"
   ]
  },
  {
   "cell_type": "code",
   "execution_count": null,
   "metadata": {},
   "outputs": [],
   "source": []
  }
 ],
 "metadata": {
  "kernelspec": {
   "display_name": "Python 3.9.9 64-bit",
   "language": "python",
   "name": "python3"
  },
  "language_info": {
   "codemirror_mode": {
    "name": "ipython",
    "version": 3
   },
   "file_extension": ".py",
   "mimetype": "text/x-python",
   "name": "python",
   "nbconvert_exporter": "python",
   "pygments_lexer": "ipython3",
   "version": "3.9.9"
  },
  "orig_nbformat": 4,
  "vscode": {
   "interpreter": {
    "hash": "996f2b6e98019c29df53ccff772a8e3fe7cdecb0ba4b3f6ddb9be804d297dd3d"
   }
  }
 },
 "nbformat": 4,
 "nbformat_minor": 2
}
